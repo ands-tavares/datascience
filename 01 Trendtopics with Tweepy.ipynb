{
 "cells": [
  {
   "cell_type": "markdown",
   "metadata": {
    "colab_type": "text",
    "id": "DT1_HxgOZ1hU"
   },
   "source": [
    "# 01 Trendtopics with Tweepy\n",
    "by Anderson Tavares\n",
    "\n",
    "follow me on social media for more content\n",
    "\n",
    "linkedin.com/in/anderson-tavares/\n",
    "\n",
    "instagram.com/\n",
    "\n",
    "github.com/ands-tavares/"
   ]
  },
  {
   "cell_type": "code",
   "execution_count": null,
   "metadata": {
    "colab": {},
    "colab_type": "code",
    "id": "9wf3ban238_G"
   },
   "outputs": [],
   "source": [
    "#Getting twitter authentification\n",
    "#Credentials on https://developer.twitter.com/en/\n",
    "import tweepy\n",
    "\n",
    "consumer_key=''\n",
    "consumer_secret=''\n",
    "access_token=''\n",
    "access_token_secret=''\n",
    "\n",
    "auth = tweepy.OAuthHandler(consumer_key, consumer_secret)\n",
    "auth.set_access_token(access_token, access_token_secret)\n",
    "\n",
    "api = tweepy.API(auth)"
   ]
  },
  {
   "cell_type": "code",
   "execution_count": null,
   "metadata": {
    "colab": {
     "base_uri": "https://localhost:8080/",
     "height": 136
    },
    "colab_type": "code",
    "id": "Unq7gihT5FiD",
    "outputId": "765ef0b3-9146-461f-8c12-702cdca7e981"
   },
   "outputs": [],
   "source": [
    "#Getting places with trends available\n",
    "import numpy as np\n",
    "\n",
    "places=api.trends_available()\n",
    "places[np.random.randint(len(places))]"
   ]
  },
  {
   "cell_type": "code",
   "execution_count": null,
   "metadata": {
    "colab": {
     "base_uri": "https://localhost:8080/",
     "height": 419
    },
    "colab_type": "code",
    "id": "8dOZzI2lEkw0",
    "outputId": "8899551d-b585-4bbf-ec22-254dc7dcbe43"
   },
   "outputs": [],
   "source": [
    "##Creating a dataframe for places data\n",
    "import pandas as pd\n",
    "\n",
    "places_df = pd.DataFrame(np.array([place['name'] for place in places]), columns=['name']) \n",
    "places_df['placeTypeName']=np.array([place['placeType']['name'] for place in places])\n",
    "places_df['country']=np.array([place['country'] for place in places])\n",
    "places_df['woeid']=np.array([place['woeid'] for place in places])\n",
    "\n",
    "places_df"
   ]
  },
  {
   "cell_type": "code",
   "execution_count": null,
   "metadata": {
    "colab": {
     "base_uri": "https://localhost:8080/",
     "height": 1000
    },
    "colab_type": "code",
    "id": "j9ppE9dqHeaS",
    "outputId": "4bc106c9-558c-4171-e828-dd29bcaafb91"
   },
   "outputs": [],
   "source": [
    "#Getting trends from a specific place\n",
    "place=places_df.sample()\n",
    "print(place)\n",
    "print('\\nTrendings from %s:\\n' % place.name.values[0])\n",
    "api.trends_place(place.woeid.values[0])"
   ]
  },
  {
   "cell_type": "code",
   "execution_count": null,
   "metadata": {
    "colab": {
     "base_uri": "https://localhost:8080/",
     "height": 946
    },
    "colab_type": "code",
    "id": "EhjyQZIKMna7",
    "outputId": "78c3a975-7dd7-45b7-c8bb-e66b397b9d64"
   },
   "outputs": [],
   "source": [
    "#Getting dataframes from all places and saving in a dataframe\n",
    "import time\n",
    "\n",
    "worldtrends_df=pd.DataFrame(columns=['name','volume','place','placeTypeName','country'])\n",
    "total=len(places_df)\n",
    "\n",
    "start = time.time()\n",
    "\n",
    "for index, row in places_df.iterrows():\n",
    "  place=row['name']\n",
    "  country=row['country']\n",
    "  woeid=row['woeid']\n",
    "  placeTypeName=row['placeTypeName']\n",
    "  \n",
    "  #Twitter api code. In case of an error, wait 15 minutes\n",
    "  succeed=False\n",
    "  while not succeed:\n",
    "    try:\n",
    "      trends=api.trends_place(woeid)\n",
    "    except:\n",
    "      print('Complete percentage: %.1f' % (index/total))\n",
    "      print('Rate limit exceeded, wait 15 minutes.')\n",
    "      time.sleep(5*60)\n",
    "      print('Rate limit exceeded, wait 10 minutes.')\n",
    "      time.sleep(5*60)\n",
    "      print('Rate limit exceeded, wait 05 minutes.')\n",
    "      time.sleep(5*60)\n",
    "      print('Regular requests')\n",
    "    else:\n",
    "      succeed=True\n",
    "  \n",
    "  for trend in trends[0]['trends']:\n",
    "    if trend['tweet_volume'] is not None:\n",
    "      name=trend['name']\n",
    "      volume=trend['tweet_volume']\n",
    "      worldtrends_df=worldtrends_df.append({'name':name,'volume':volume,'place':place,'placeTypeName':placeTypeName,'country':country},ignore_index=True)\n",
    "\n",
    "print(\"Time spent: %.0f minutes\" % ((time.time() - start)/60))\n",
    "worldtrends_df"
   ]
  },
  {
   "cell_type": "code",
   "execution_count": null,
   "metadata": {
    "colab": {
     "base_uri": "https://localhost:8080/",
     "height": 54
    },
    "colab_type": "code",
    "id": "tt1TzQ2GPgB-",
    "outputId": "35a60b81-15c0-4f65-88cf-7234761e9f2c"
   },
   "outputs": [],
   "source": [
    "#Saving dataframe as .csv file\n",
    "from datetime import datetime\n",
    "\n",
    "#In case you are using google colab\n",
    "from google.colab import drive\n",
    "drive.mount('/content/drive') \n",
    "\n",
    "diretory = '/content/drive/My Drive/Colab Notebooks/DataScience/0x/'\n",
    "datetime_str=str(datetime.now()).replace(':','-').replace('.','-')\n",
    "archive_name=('WorldTrends_'+datetime_str+'.csv')\n",
    "worldtrends_df.to_csv(diretory+archive_name,index=False)"
   ]
  },
  {
   "cell_type": "code",
   "execution_count": null,
   "metadata": {
    "colab": {
     "base_uri": "https://localhost:8080/",
     "height": 456
    },
    "colab_type": "code",
    "id": "WNyOf_LnPfR6",
    "outputId": "e71dfb9c-fb9f-40be-ded1-150acf9be157"
   },
   "outputs": [],
   "source": [
    "#Reading dataframe from .csv file\n",
    "import pandas as pd\n",
    "#In case you are using google colab\n",
    "from google.colab import drive\n",
    "drive.mount('/content/drive') \n",
    "\n",
    "diretory = '/content/drive/My Drive/Colab Notebooks/DataScience/01/'\n",
    "archive_name='WorldTrends_2020-06-27 06-56-51-185617.csv'\n",
    "worldtrends_df = pd.read_csv(diretory+archive_name) \n",
    "\n",
    "worldtrends_df"
   ]
  },
  {
   "cell_type": "code",
   "execution_count": null,
   "metadata": {
    "colab": {
     "base_uri": "https://localhost:8080/",
     "height": 419
    },
    "colab_type": "code",
    "id": "-iZ_2W3lus1P",
    "outputId": "f39f108b-0a90-4466-d91f-8dd875be0970"
   },
   "outputs": [],
   "source": [
    "#Pre-processing to remove punctuation and capital letters\n",
    "\n",
    "import re, string\n",
    "\n",
    "exclude=string.punctuation\n",
    "regex = re.compile('[%s]' % re.escape(string.punctuation))\n",
    "\n",
    "for index, row in worldtrends_df.iterrows():\n",
    "  worldtrends_df.loc[index,'name_formated']=regex.sub('',worldtrends_df.loc[index,'name']).lower().replace(' ','')\n",
    "\n",
    "worldtrends_df"
   ]
  },
  {
   "cell_type": "code",
   "execution_count": null,
   "metadata": {
    "colab": {
     "base_uri": "https://localhost:8080/",
     "height": 419
    },
    "colab_type": "code",
    "id": "cGf9uTkpQmxA",
    "outputId": "e961f7c6-2d58-429d-97d3-8e4fcdf94276"
   },
   "outputs": [],
   "source": [
    "#Grouping all popular trends \n",
    "popularTrends_df=pd.DataFrame(columns=['name','volume','ncountries','countries'])\n",
    "\n",
    "for index, row in worldtrends_df[worldtrends_df.placeTypeName=='Country'].iterrows():\n",
    "  if popularTrends_df.loc[popularTrends_df.name==row['name_formated']].empty :\n",
    "    popularTrends_df=popularTrends_df.append({'name':row['name_formated'],'volume':row['volume'],'ncountries':1,'countries':row['place']},ignore_index=True)\n",
    "  else:\n",
    "    trendrow=popularTrends_df.name==row['name_formated']\n",
    "    popularTrends_df.loc[trendrow,'volume']=popularTrends_df.loc[trendrow]['volume']+row['volume']\n",
    "    popularTrends_df.loc[trendrow,'ncountries']=popularTrends_df.loc[trendrow]['ncountries']+1\n",
    "    popularTrends_df.loc[trendrow,'countries']=popularTrends_df.loc[trendrow]['countries'].values[0]+','+row['place']\n",
    "\n",
    "popularTrends_df=popularTrends_df.sort_values(by=['volume'],ascending=False)\n",
    "popularTrends_df"
   ]
  },
  {
   "cell_type": "code",
   "execution_count": null,
   "metadata": {
    "colab": {},
    "colab_type": "code",
    "id": "ZuXAMU-AIJgH"
   },
   "outputs": [],
   "source": [
    "#Getting font rocko (optional)\n",
    "#import matplotlib.font_manager as fm\n",
    "\n",
    "#!wget 'https://www.1001freefonts.com/d/3850/rocko.zip'\n",
    "#!unzip 'rocko.zip'\n",
    "#!mv \"RockoFLF.ttf\" \"/content/drive/My Drive/Colab Notebooks/DataScience/Fonts/\""
   ]
  },
  {
   "cell_type": "code",
   "execution_count": null,
   "metadata": {
    "colab": {
     "base_uri": "https://localhost:8080/",
     "height": 297
    },
    "colab_type": "code",
    "id": "UU-5R3FcqQEJ",
    "outputId": "d4faf311-2eda-44d9-9f42-045c02880251"
   },
   "outputs": [],
   "source": [
    "#Most popular trends (Horizontal Bar chart)\n",
    "import matplotlib.pyplot as plt\n",
    "import matplotlib.font_manager as fm\n",
    "fontprop = fm.FontProperties(fname='/content/drive/My Drive/Colab Notebooks/DataScience/Fonts/RockoFLF.ttf')\n",
    "\n",
    "trends=10\n",
    "names=popularTrends_df['name'][0:trends][::-1]\n",
    "volume=popularTrends_df['volume'][0:trends][::-1]\n",
    "ncountries=popularTrends_df['ncountries'][0:trends][::-1]\n",
    "\n",
    "newnames=[]\n",
    "for i in range(10):\n",
    "  newnames.append(names.values[i]+' ('+str(int(ncountries.values[i]))+')')\n",
    "\n",
    "fig, ax = plt.subplots()\n",
    "ax.barh(newnames, volume)\n",
    "ax.set_title('Worldwide trendtopics',fontproperties=fontprop,fontsize=16)\n",
    "ax.set_ylabel('Name (Countries)',fontproperties=fontprop,fontsize=12)\n",
    "ax.set_xlabel('Number of Tweets',fontproperties=fontprop,fontsize=12)\n",
    "\n",
    "#Changing xlabel\n",
    "locs = ax.get_xticks()\n",
    "ref=['','mil','M','B','T']\n",
    "power=0\n",
    "while max(locs)>1000:\n",
    "  locs=locs/1000\n",
    "  power+=1\n",
    "\n",
    "xlabel=[]\n",
    "for n in locs:\n",
    "  xlabel.append(str(int(n))+ref[power])\n",
    "\n",
    "ax.set_xticklabels(xlabel,fontproperties=fontprop,fontsize=12)\n",
    "ax.set_yticklabels(newnames,fontproperties=fontprop,fontsize=12)\n",
    "\n",
    "for i, v in enumerate(volume):\n",
    "  ticklabel=str(int(v/(1000**power)))+ref[power]\n",
    "  if i==9:\n",
    "    ax.text(v-2e7, i-0.15, ticklabel,color='white',fontproperties=fontprop,fontweight='bold') \n",
    "  else:\n",
    "    ax.text(v+3e6, i-0.15, ticklabel,fontproperties=fontprop,fontweight='bold')\n",
    "\n",
    "diretory = '/content/drive/My Drive/Colab Notebooks/DataScience/0x'\n",
    "plt.tight_layout()\n",
    "plt.savefig(f\"{diretory}/Worldwide trendtopics.png\")"
   ]
  },
  {
   "cell_type": "code",
   "execution_count": null,
   "metadata": {
    "colab": {
     "base_uri": "https://localhost:8080/",
     "height": 297
    },
    "colab_type": "code",
    "id": "SqLajXr7EfV4",
    "outputId": "06f86a2d-997a-4471-ae65-5d2b127d8125"
   },
   "outputs": [],
   "source": [
    "#Most popular trends (Pie chart)\n",
    "from matplotlib import cm\n",
    "fontprop = fm.FontProperties(fname='/content/drive/My Drive/Colab Notebooks/DataScience/Fonts/RockoFLF.ttf')\n",
    "\n",
    "trends=10\n",
    "total=popularTrends_df['volume'].sum()\n",
    "names=popularTrends_df['name'][0:trends].tolist()\n",
    "volume=popularTrends_df['volume'][0:trends].tolist()\n",
    "\n",
    "names.append('others')\n",
    "volume.append(total-popularTrends_df['volume'][0:trends].sum())\n",
    "\n",
    "newnames=[]\n",
    "for i in range(trends+1):\n",
    "  newnames.append(names[i]+' ('+str(int(volume[i]/total*100))+'%)')\n",
    "\n",
    "fig, ax = plt.subplots()\n",
    "cmap=plt.get_cmap(\"tab20\")\n",
    "\n",
    "wedges, autotexts=ax.pie(volume,colors=cmap(range(trends+1)))\n",
    "ax.set_xticklabels(volume)\n",
    "ax.set_title('Worldwide trendtopics',fontproperties=fontprop,fontsize=16)\n",
    "ax.legend(wedges,newnames,title=\"Name\",loc=[1,0.2],fontsize=8)\n",
    "\n",
    "diretory = '/content/drive/My Drive/Colab Notebooks/DataScience/0x'\n",
    "plt.tight_layout()\n",
    "plt.savefig(f\"{diretory}/Worldwide trendtopics pie.png\")"
   ]
  },
  {
   "cell_type": "code",
   "execution_count": null,
   "metadata": {
    "colab": {
     "base_uri": "https://localhost:8080/",
     "height": 419
    },
    "colab_type": "code",
    "id": "-K0X7j09kMOu",
    "outputId": "e8b72f07-4771-4c4b-a750-4e2607e2cc65"
   },
   "outputs": [],
   "source": [
    "#Getting data from the top trend\n",
    "\n",
    "idmax=pd.to_numeric(popularTrends_df['volume']).idxmax()\n",
    "topname=popularTrends_df.loc[idmax,'name']\n",
    "\n",
    "topname_df=worldtrends_df[worldtrends_df.name_formated.eq(topname)][['volume','place','placeTypeName']]\n",
    "\n",
    "topname_df"
   ]
  },
  {
   "cell_type": "code",
   "execution_count": null,
   "metadata": {
    "colab": {},
    "colab_type": "code",
    "id": "wwtxrqO3ELyZ"
   },
   "outputs": [],
   "source": [
    "#Getting latitude and longitude for places\n",
    "from geopy.geocoders import Nominatim\n",
    "\n",
    "topname_df['latitude']=0.\n",
    "topname_df['longitude']=0.\n",
    "\n",
    "geolocator = Nominatim(user_agent='myapplication')\n",
    "for index, row in topname_df.iterrows():\n",
    "  topname_df.loc[index,'latitude']=geolocator.geocode(row['place']).latitude\n",
    "  topname_df.loc[index,'longitude']=geolocator.geocode(row['place']).longitude"
   ]
  },
  {
   "cell_type": "code",
   "execution_count": null,
   "metadata": {
    "colab": {},
    "colab_type": "code",
    "id": "O-ZGMeVjqYHX"
   },
   "outputs": [],
   "source": [
    "#Heatmap - Towns\n",
    "import folium\n",
    "from folium import plugins\n",
    "import numpy as np\n",
    "\n",
    "topname_towndf=topname_df[topname_df['placeTypeName']=='Town']\n",
    "\n",
    "town_latitudes=topname_towndf['latitude'].tolist()\n",
    "town_longitudes=topname_towndf['longitude'].tolist()\n",
    "town_volume=topname_towndf['volume'].tolist()\n",
    "\n",
    "for i,v in enumerate(town_volume):\n",
    "  town_volume[i]=v/max(town_volume)\n",
    "\n",
    "coordinates = np.column_stack((town_latitudes, town_longitudes))\n",
    "coordinates = np.column_stack((coordinates, town_volume))\n",
    "\n",
    "map = folium.Map(zoom_start=3.)\n",
    "map.add_child(plugins.HeatMap(coordinates))\n",
    "map\n",
    "\n",
    "diretory = '/content/drive/My Drive/Colab Notebooks/DataScience/0x'\n",
    "map.save(f\"{diretory}/HeatMap_Town.html\")"
   ]
  },
  {
   "cell_type": "code",
   "execution_count": null,
   "metadata": {
    "colab": {},
    "colab_type": "code",
    "id": "H_A86QOjw268"
   },
   "outputs": [],
   "source": [
    "#Heatmap - Countries\n",
    "import folium\n",
    "from folium import plugins\n",
    "\n",
    "topname_countrydf=topname_df[topname_df['placeTypeName']=='Country']\n",
    "\n",
    "country_latitudes=topname_countrydf['latitude'].tolist()\n",
    "country_longitudes=topname_countrydf['longitude'].tolist()\n",
    "country_volume=topname_countrydf['volume'].tolist()\n",
    "for i,v in enumerate(country_volume):\n",
    "  country_volume[i]=v/max(country_volume)\n",
    "\n",
    "coordinates = np.column_stack((country_latitudes, country_longitudes))\n",
    "coordinates = np.column_stack((coordinates, country_volume))\n",
    "\n",
    "map = folium.Map(zoom_start=3.)\n",
    "map.add_child(plugins.HeatMap(coordinates))\n",
    "map\n",
    "\n",
    "diretory = '/content/drive/My Drive/Colab Notebooks/DataScience/0x'\n",
    "map.save(f\"{diretory}/HeatMap_Country.html\")"
   ]
  }
 ],
 "metadata": {
  "colab": {
   "collapsed_sections": [],
   "name": "01 Trendtopics with Tweepy.ipynb",
   "provenance": [],
   "toc_visible": true
  },
  "kernelspec": {
   "display_name": "Python 3",
   "language": "python",
   "name": "python3"
  },
  "language_info": {
   "codemirror_mode": {
    "name": "ipython",
    "version": 3
   },
   "file_extension": ".py",
   "mimetype": "text/x-python",
   "name": "python",
   "nbconvert_exporter": "python",
   "pygments_lexer": "ipython3",
   "version": "3.7.7"
  }
 },
 "nbformat": 4,
 "nbformat_minor": 1
}
